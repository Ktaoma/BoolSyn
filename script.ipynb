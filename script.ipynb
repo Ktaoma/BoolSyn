{
 "cells": [
  {
   "cell_type": "code",
   "execution_count": 1,
   "id": "9b1f5e99-95bf-4b5c-b66b-79c507e427f0",
   "metadata": {},
   "outputs": [],
   "source": [
    "import pandas as pd\n",
    "import numpy as np\n",
    "import random\n",
    "import itertools\n",
    "import requests\n",
    "import contextlib\n",
    "import warnings\n",
    "from tqdm import tqdm  \n",
    "import seaborn as sns\n",
    "from numpy.random import rand\n",
    "from random import randint\n",
    "import joblib \n",
    "from joblib import Parallel, delayed\n",
    "warnings.filterwarnings(\"ignore\")"
   ]
  },
  {
   "cell_type": "markdown",
   "id": "1f6ba666",
   "metadata": {},
   "source": [
    "# 1. Import function & File"
   ]
  },
  {
   "cell_type": "code",
   "execution_count": 2,
   "id": "b8dc4a50-0306-465a-bad7-8663490ce322",
   "metadata": {},
   "outputs": [],
   "source": [
    "# Function for calculating entropy\n",
    "def entro_cal(mat_prop,ts_cal):\n",
    "    \n",
    "    #mat_prop: averaged protein activities across time\n",
    "    #ts_cal: simulated time step\n",
    "    \n",
    "    #prep data\n",
    "    en_ = mat_prop.copy()\n",
    "    en_.columns = [cl_ for cl_ in range(en_.shape[1])]   \n",
    "    list_ = [\"\".join(map(str, list(en_[col])))for col in range(ts_cal)]\n",
    "    en_2 = pd.DataFrame({\"S\":list_}).groupby(\"S\").size().reset_index().rename({0:\"CNT\"},axis=1)[\"CNT\"]\n",
    "    en_3 = np.array(en_2)\n",
    "\n",
    "    # entropy calculation\n",
    "    prob_ = en_3/ts_cal\n",
    "    log_p = np.log2(prob_)\n",
    "    entropy_ = -sum([prob_[_] * log_p[_] for _ in range(len(log_p))])\n",
    "    return entropy_\n",
    "\n",
    "\n",
    "# Function for generating cell line specific profile from gene expression and mutation data\n",
    "def cell_line_profile (**args):\n",
    "    \n",
    "    \n",
    "    globals().update(args)\n",
    "\n",
    "    \"\"\"\n",
    "    1.1 Prep. File\n",
    "    \"\"\"\n",
    "    # 1.1 gene expression: initial state\n",
    "    ex_tmp = mdf_gx_final.query(\"cl == @cl_name\").iloc[:,[1,2]]\n",
    "    ex_tmp.columns = [\"target\",\"state\"]\n",
    "    ex_tmp[\"state\"] = [int(np.random.choice([0,1], 1, p=[1-ex_tmp.iloc[i,1],ex_tmp.iloc[i,1]])) for i in range(ex_tmp.shape[0])]\n",
    "\n",
    "\n",
    "    # 1.2 mutation: fix at Boolean function\n",
    "    cl_tmp = cl_mut_.query(\"cl == @cl_name\")[[\"target\",\"value\"]].drop_duplicates() \n",
    "    cl_tmp.columns = [\"target\",\"state\"]\n",
    "\n",
    "    dict_omic = {\"ex_tmp\":ex_tmp,\n",
    "                 \"cl_tmp\":cl_tmp}\n",
    "\n",
    "    rule_ran = [dict_omic[x] for x in hyp_rule]\n",
    "    init_ran = [dict_omic[x] for x in hyp_init]   \n",
    "\n",
    "\n",
    "    \"\"\"\n",
    "    1.2 mutation: fix 0 and 1 at Boolean function\n",
    "    \"\"\"\n",
    "\n",
    "    select_ = pd.concat(rule_ran).groupby(['target']).agg({'state': 'max'}).reset_index().query(\"target == @gene_list\")\n",
    "    exs_list = select_[\"target\"].tolist()\n",
    "    bool_cl = boolean_function.query(\"target != @exs_list\")\n",
    "    bool_cl_fixed = pd.concat([bool_cl, select_]).groupby(['target']).agg({'state': 'max'}).reset_index()\n",
    "\n",
    "\n",
    "    #reorder row of protein\n",
    "    bool_cl_fixed.target = bool_cl_fixed.target.astype(\"category\")\n",
    "    bool_cl_fixed.target.cat.set_categories(gene_list, inplace=True)\n",
    "    bool_cl_fixed = bool_cl_fixed.sort_values([\"target\"])\n",
    "\n",
    "\n",
    "\n",
    "    \"\"\"\n",
    "    1.3  gene expression: generate initial state \n",
    "    \"\"\"\n",
    "\n",
    "    init_gx = pd.concat(init_ran).groupby(['target']).agg({'state': 'max'}).reset_index().query(\"target == @gene_list\").query(\"target != @exs_list\")\n",
    "    all_list = init_gx['target'].tolist()\n",
    "    remain = boolean_function.query(\"target != @all_list\")\n",
    "    #the initial state any protein without information in gene expression will be randomly selected 1 or 0.\n",
    "    remain[\"state\"] = [int(np.random.choice([0,1], 1, p=[0.5,0.5])) for i in range(remain.shape[0])]\n",
    "    final_init_state = pd.concat([init_gx,remain,select_]).groupby(['target']).agg({'state': 'max'}).reset_index()\n",
    "\n",
    "    #reorder row of protein\n",
    "    final_init_state.target = final_init_state.target.astype(\"category\")\n",
    "    final_init_state.target.cat.set_categories(gene_list, inplace=True)\n",
    "    initial_state = final_init_state.sort_values([\"target\"])\n",
    "\n",
    "    res_final = [initial_state,bool_cl_fixed]\n",
    "\n",
    "\n",
    "\n",
    "    return res_final\n",
    "\n",
    "\n",
    "# Function for generating drug profile based on dose ranges\n",
    "# list of all of available drug kept in this function\n",
    "def assign_rule_drug(**args):\n",
    "\n",
    "    globals().update(args)\n",
    "    \n",
    "    # gene name\n",
    "    gene_name_v2 =  fl.parse(0).iloc[:,:2]\n",
    "    gene_name_v2.columns = [\"protein\",\"model_name\"] \n",
    "\n",
    "    #cell line - Boolean Rule fixed by genetic mutation\n",
    "    boolean_rule = cell_line_profile(**args)[1].reset_index().iloc[:,1:]\n",
    "\n",
    "    #drug row\n",
    "    tg_drug_row = drug_target.query(\"drug  == @drug_1\")\n",
    "    tg_drug_row_ = pd.merge(gene_name_v2,tg_drug_row,on=\"protein\").query(\"model_name == @gene_list\")\n",
    "\n",
    "    #drug col\n",
    "    tg_drug_col = drug_target.query(\"drug  == @drug_2\")\n",
    "    tg_drug_col_ = pd.merge(gene_name_v2,tg_drug_col,on=\"protein\").query(\"model_name == @gene_list\")\n",
    "\n",
    "\n",
    "    def dose_range(dose_):\n",
    "\n",
    "        #dose of each drug\n",
    "        dose_1st_drug = dose_[0]\n",
    "        dose_2nd_drug = dose_[1]\n",
    "\n",
    "        #assign drug\n",
    "        def assign_drug(df,dose):\n",
    "            \n",
    "            #check which drug target is ON and OFF based on the dose probability \n",
    "            nrow_dr = df.shape[0]\n",
    "            df[\"response_adj\"] = [int(np.random.choice([0,1], 1, p=[1-dose,dose])) for i in range(nrow_dr)]\n",
    "            #target will be perturbed by drug if it is equal to 1 which is based on probability.\n",
    "            pow_dr = df.query(\"response_adj == 1\")\n",
    "\n",
    "            \n",
    "            if (True in pow_dr.drug.str.contains('391210-10-9').tolist()) == True:\n",
    "                pow_dr.loc[pow_dr['model_name'] == 'MEK_i', 'response_adj'] = 0\n",
    "\n",
    "            if (True in pow_dr.drug.str.contains('915019-65-7').tolist()) == True:\n",
    "                pow_dr.loc[pow_dr['model_name'] == 'PI3K_c', 'response_adj'] = 0\n",
    "                pow_dr.loc[pow_dr['model_name'] == 'MTORC1_c', 'response_adj'] = 0\n",
    "                pow_dr.loc[pow_dr['model_name'] == 'MTORC2_c', 'response_adj'] = 0\n",
    "\n",
    "            if (True in pow_dr.drug.str.contains('ALPELISIB').tolist()) == True:\n",
    "                pow_dr.loc[pow_dr['model_name'] == 'PI3K_c', 'response_adj'] = 0\n",
    "\n",
    "            if (True in pow_dr.drug.str.contains('ANTIBIOTIC AY 22989').tolist()) == True:\n",
    "                pow_dr.loc[pow_dr['model_name'] == 'MTORC1_c', 'response_adj'] = 0\n",
    "\n",
    "            if (True in pow_dr.drug.str.contains('AZD2014').tolist()) == True:\n",
    "                pow_dr.loc[pow_dr['model_name'] == 'MTORC1_c', 'response_adj'] = 0\n",
    "                pow_dr.loc[pow_dr['model_name'] == 'MTORC2_c', 'response_adj'] = 0\n",
    "\n",
    "            if (True in pow_dr.drug.str.contains('AZD5363').tolist()) == True:\n",
    "                pow_dr.loc[pow_dr['model_name'] == 'AKT_i', 'response_adj'] = 0\n",
    "\n",
    "            if (True in pow_dr.drug.str.contains('BUPARLISIB').tolist()) == True:\n",
    "                pow_dr.loc[pow_dr['model_name'] == 'PI3K_c', 'response_adj'] = 0\n",
    "\n",
    "            if (True in pow_dr.drug.str.contains('CELECOXIB').tolist()) == True:\n",
    "                pow_dr.loc[pow_dr['model_name'] == 'PDPK1', 'response_adj'] = 0\n",
    "\n",
    "            if (True in pow_dr.drug.str.contains('DASATINIB').tolist()) == True:\n",
    "                pow_dr.loc[pow_dr['model_name'] == 'SRC', 'response_adj'] = 0\n",
    "                pow_dr.loc[pow_dr['model_name'] == 'LCK', 'response_adj'] = 0\n",
    "                pow_dr.loc[pow_dr['model_name'] == 'ABL1', 'response_adj'] = 0\n",
    "                pow_dr.loc[pow_dr['model_name'] == 'ABL2', 'response_adj'] = 0\n",
    "\n",
    "            if (True in pow_dr.drug.str.contains('DEFOROLIMUS').tolist()) == True:\n",
    "                pow_dr.loc[pow_dr['model_name'] == 'MTORC1_c', 'response_adj'] = 0\n",
    "\n",
    "            if (True in pow_dr.drug.str.contains('EMCYT').tolist()) == True:\n",
    "                pow_dr.loc[pow_dr['model_name'] == 'ESR1', 'response_adj'] = 1\n",
    "\n",
    "            if (True in pow_dr.drug.str.contains('ENZASTAURIN').tolist()) == True:\n",
    "                pow_dr.loc[pow_dr['model_name'] == 'AKT_i', 'response_adj'] = 0\n",
    "\n",
    "            if (True in pow_dr.drug.str.contains('ERLOTINIB').tolist()) == True:\n",
    "                pow_dr.loc[pow_dr['model_name'] == 'EGFR', 'response_adj'] = 0\n",
    "\n",
    "            if (True in pow_dr.drug.str.contains('ERLOTINIB HYDROCHLORIDE').tolist()) == True:\n",
    "                pow_dr.loc[pow_dr['model_name'] == 'EGFR', 'response_adj'] = 0\n",
    "\n",
    "            if (True in pow_dr.drug.str.contains('FULVESTRANT').tolist()) == True:\n",
    "                pow_dr.loc[pow_dr['model_name'] == 'ESR1', 'response_adj'] = 0\n",
    "\n",
    "            if (True in pow_dr.drug.str.contains('GEFITINIB').tolist()) == True:\n",
    "                pow_dr.loc[pow_dr['model_name'] == 'EGFR', 'response_adj'] = 0\n",
    "\n",
    "            if (True in pow_dr.drug.str.contains('GELDANAMYCIN').tolist()) == True:\n",
    "                pow_dr.loc[pow_dr['model_name'] == 'HSP90AA1', 'response_adj'] = 0\n",
    "\n",
    "            if (True in pow_dr.drug.str.contains('IMATINIB').tolist()) == True:\n",
    "                pow_dr.loc[pow_dr['model_name'] == 'ABL1', 'response_adj'] = 0\n",
    "\n",
    "            if (True in pow_dr.drug.str.contains('LAPATINIB').tolist()) == True:\n",
    "                pow_dr.loc[pow_dr['model_name'] == 'EGFR', 'response_adj'] = 0\n",
    "                pow_dr.loc[pow_dr['model_name'] == 'HER2', 'response_adj'] = 0\n",
    "\n",
    "            if (True in pow_dr.drug.str.contains('MEGESTROL ACETATE').tolist()) == True:\n",
    "                pow_dr.loc[pow_dr['model_name'] == 'PGR', 'response_adj'] = 1\n",
    "\n",
    "            if (True in pow_dr.drug.str.contains('MITOTANE').tolist()) == True:\n",
    "                pow_dr.loc[pow_dr['model_name'] == 'ESR1', 'response_adj'] = 1\n",
    "\n",
    "            if (True in pow_dr.drug.str.contains('MK-2206').tolist()) == True:\n",
    "                pow_dr.loc[pow_dr['model_name'] == 'AKT_i', 'response_adj'] = 0\n",
    "\n",
    "            if (True in pow_dr.drug.str.contains('MK-8669').tolist()) == True:\n",
    "                pow_dr.loc[pow_dr['model_name'] == 'MTORC1_c', 'response_adj'] = 0\n",
    "\n",
    "            if (True in pow_dr.drug.str.contains('NILOTINIB').tolist()) == True:\n",
    "                pow_dr.loc[pow_dr['model_name'] == 'ABL1', 'response_adj'] = 0\n",
    "\n",
    "            if (True in pow_dr.drug.str.contains('NSC733504').tolist()) == True:\n",
    "                pow_dr.loc[pow_dr['model_name'] == 'MTORC1_c', 'response_adj'] = 0\n",
    "\n",
    "            if (True in pow_dr.drug.str.contains('PACLITAXEL').tolist()) == True:\n",
    "                pow_dr.loc[pow_dr['model_name'] == 'BCL2', 'response_adj'] = 0\n",
    "\n",
    "            if (True in pow_dr.drug.str.contains('PF-04691502').tolist()) == True:\n",
    "                pow_dr.loc[pow_dr['model_name'] == 'PI3K_c', 'response_adj'] = 0\n",
    "                pow_dr.loc[pow_dr['model_name'] == 'MTORC1_c', 'response_adj'] = 0\n",
    "                pow_dr.loc[pow_dr['model_name'] == 'MTORC2_c', 'response_adj'] = 0\n",
    "\n",
    "            if (True in pow_dr.drug.str.contains('RALOXIFENE').tolist()) == True:\n",
    "                pow_dr.loc[pow_dr['model_name'] == 'ESR1', 'response_adj'] = 1\n",
    "\n",
    "            if (True in pow_dr.drug.str.contains('RUXOLITINIB').tolist()) == True:\n",
    "                pow_dr.loc[pow_dr['model_name'] == 'JAK2', 'response_adj'] = 0\n",
    "\n",
    "            if (True in pow_dr.drug.str.contains('SAPITINIB').tolist()) == True:\n",
    "                pow_dr.loc[pow_dr['model_name'] == 'HER2', 'response_adj'] = 0\n",
    "\n",
    "            if (True in pow_dr.drug.str.contains('SELUMETINIB').tolist()) == True:\n",
    "                pow_dr.loc[pow_dr['model_name'] == 'MEK_i', 'response_adj'] = 0\n",
    "\n",
    "            if (True in pow_dr.drug.str.contains('SORAFENIB').tolist()) == True:\n",
    "                pow_dr.loc[pow_dr['model_name'] == 'EGFR', 'response_adj'] = 0\n",
    "                pow_dr.loc[pow_dr['model_name'] == 'RAF1', 'response_adj'] = 0\n",
    "\n",
    "            if (True in pow_dr.drug.str.contains('STATTIC').tolist()) == True:\n",
    "                pow_dr.loc[pow_dr['model_name'] == 'STAT3', 'response_adj'] = 0\n",
    "\n",
    "            if (True in pow_dr.drug.str.contains('TAMOXIFEN CITRATE').tolist()) == True:\n",
    "                pow_dr.loc[pow_dr['model_name'] == 'ESR1', 'response_adj'] = 0\n",
    "                pow_dr.loc[pow_dr['model_name'] == 'MAPK8', 'response_adj'] = 1\n",
    "\n",
    "            if (True in pow_dr.drug.str.contains('TEMSIROLIMUS').tolist()) == True:\n",
    "                pow_dr.loc[pow_dr['model_name'] == 'MTORC1_c', 'response_adj'] = 0\n",
    "\n",
    "            if (True in pow_dr.drug.str.contains('TRAMETINIB').tolist()) == True:\n",
    "                pow_dr.loc[pow_dr['model_name'] == 'MEK_i', 'response_adj'] = 0\n",
    "\n",
    "            if (True in pow_dr.drug.str.contains('TRISENOX').tolist()) == True:\n",
    "                pow_dr.loc[pow_dr['model_name'] == 'JUN', 'response_adj'] = 1\n",
    "                pow_dr.loc[pow_dr['model_name'] == 'CYCLIN_D_c', 'response_adj'] = 0\n",
    "                pow_dr.loc[pow_dr['model_name'] == 'ERK_i', 'response_adj'] = 1\n",
    "                pow_dr.loc[pow_dr['model_name'] == 'AKT_i', 'response_adj'] = 1\n",
    "\n",
    "            if (True in pow_dr.drug.str.contains('VANDETANIB').tolist()) == True:\n",
    "                pow_dr.loc[pow_dr['model_name'] == 'EGFR', 'response_adj'] = 0\n",
    "\n",
    "            return pow_dr\n",
    "        \n",
    "\n",
    "        #combine drug effect from both drug\n",
    "        cdrug2 = pd.concat([assign_drug(tg_drug_row_, dose_1st_drug),\n",
    "                   assign_drug(tg_drug_col_, dose_2nd_drug)])[[\"model_name\",\"response_adj\"]]\n",
    "\n",
    "        #### drug conflict ----> inhibitor always win \n",
    "        conflict_ = cdrug2.groupby(\"model_name\").mean().query(\"response_adj == 0.5\").reset_index()[\"model_name\"].tolist()\n",
    "        cdrug_filter = cdrug2.query(\"model_name != @conflict_\") \n",
    "        select_df = cdrug2.query(\"model_name == @conflict_ and response_adj != 1\")\n",
    "        cdrug = pd.concat([select_df,cdrug_filter])\n",
    "\n",
    "        ####\n",
    "\n",
    "        cdrug.columns = [\"target\",\"state\"]\n",
    "\n",
    "        if cdrug.shape[0] == 0:\n",
    "            final_adjs = boolean_rule.copy()\n",
    "            df = final_adjs.set_index('target')\n",
    "            final_adj = df.loc[gene_list].reset_index()\n",
    "            final_adj[\"dose_row\"] = dose_1st_drug\n",
    "            final_adj[\"dose_col\"] = dose_2nd_drug\n",
    "\n",
    "            return final_adj.drop_duplicates()\n",
    "\n",
    "        else:            \n",
    "            bc_ = boolean_rule.query(\"target != @cdrug.target.tolist()\")\n",
    "            final_adjs = pd.concat([bc_,cdrug.drop_duplicates()])\n",
    "            df = final_adjs.set_index('target')\n",
    "            final_adj = df.loc[gene_list].reset_index()\n",
    "            final_adj[\"dose_row\"] = dose_1st_drug\n",
    "            final_adj[\"dose_col\"] = dose_2nd_drug\n",
    "\n",
    "            return final_adj\n",
    "\n",
    "    # Generating perturbed Boolean rule across dose ranges\n",
    "    res = [dose_range(_)[\"state\"].tolist() for _ in big_mat_]\n",
    "\n",
    "    return res\n",
    "\n",
    "\n",
    "\n",
    "# Function for simulating drug perturbation\n",
    "def asyn_inhibitor_opt(**args):\n",
    "    \n",
    "\n",
    "    globals().update(args)       \n",
    "    \n",
    "    # simulating time: total time step = cancer steady state + 5000\n",
    "    time_step_ = elbow + 5000\n",
    "    \n",
    "    # time step to perturbed drug\n",
    "    time_treat_drug_ = elbow\n",
    "  \n",
    "    \n",
    "    res = [init_idx_]\n",
    "    init_idx_2 = init_idx_.copy()\n",
    "    \n",
    "    \n",
    "    for j in range(time_step_):\n",
    "\n",
    "        ran_num = random.randint(0, len(bool_)-1)\n",
    "        \n",
    "        if j < time_treat_drug_:\n",
    "            \n",
    "            if j == 0:\n",
    "            \n",
    "                update_ = np.array([eval(bool_[x],init_)*1 for x in range(len(bool_))])\n",
    "                bget = np.append(np.array([i for i, x in enumerate(bool_) if x == \"1\" or x == \"0\"]),ran_num).astype(int)\n",
    "                init_idx_2[bget]= update_[bget]\n",
    "                res.append(init_idx_2)\n",
    "            \n",
    "            else:\n",
    "                \n",
    "                val = np.array(res[j])\n",
    "                update_ = dict(zip(keys_idx_, val))\n",
    "                update_step = [eval(bool_[x],update_)*1 for x in range(len(bool_))]\n",
    "                val[ran_num]= update_step[ran_num] \n",
    "                res.append(val)\n",
    "            \n",
    "        else:\n",
    "            \n",
    "            val_2 = np.array(res[j])\n",
    "            idx_drug_fixed = np.array([i for i, x in enumerate(bool_treat_drug_) if x == \"1\" or x == \"0\" or x == 1 or x == 0]).astype(int)\n",
    "            val_2[idx_drug_fixed] = bool_treat_drug_[idx_drug_fixed] \n",
    "            update_drug = dict(zip(keys_idx_,val_2))\n",
    "            update_drug_step = np.array([eval(bool_treat_drug_[x],update_drug)*1 for x in range(len(bool_))])  \n",
    "            val_2[ran_num]= update_drug_step[ran_num]\n",
    "            res.append(val_2)\n",
    "            \n",
    "            \n",
    "    return res\n",
    "\n",
    "# Function for summarizing result\n",
    "def get_para(reps,**args):\n",
    "    \n",
    "    bl_cl = cell_line_profile(**args)[1].reset_index().iloc[:,1:]\n",
    "    \n",
    "    init_cl = cell_line_profile(**args)[0].reset_index().iloc[:,1:]\n",
    "    \n",
    "    bool_ = [str(x) for x in sum(bl_cl[[\"state\"]].to_numpy().tolist(),[])]\n",
    "    \n",
    "    init_ = dict(init_cl[[\"target\",\"state\"]].values)\n",
    "    \n",
    "    keys_idx = list(init_.keys())\n",
    "    \n",
    "    init_idx = np.array([init_.get(x) for x in keys_idx])\n",
    "\n",
    "    drug_rule_ = assign_rule_drug(**args)\n",
    "    \n",
    "    \n",
    "    dict_list = []\n",
    "    for j in range(len(drug_rule_)):\n",
    "    \n",
    "        all_parameter = {\"bool_\":bool_,\n",
    "                         \"init_\":init_,\n",
    "                         \"keys_idx_\": keys_idx,\n",
    "                         \"init_idx_\":init_idx,\n",
    "                         \"bool_treat_drug_\": np.array(drug_rule_[j]), \n",
    "                         \"elbow\":SS[cl_name]}    \n",
    "        \n",
    "        dict_list.append(all_parameter)\n",
    "        \n",
    "\n",
    "    return dict_list\n",
    "\n"
   ]
  },
  {
   "cell_type": "code",
   "execution_count": 3,
   "id": "26fb1472-871c-45bf-a679-aecc83614c88",
   "metadata": {},
   "outputs": [],
   "source": [
    "# Prep. drug target and readout\n",
    "fl = pd.ExcelFile(\"data/GRN.xls\")\n",
    "gene_list = fl.parse(1)['target'].tolist()\n",
    "\n",
    "gene_name =  fl.parse(0).iloc[:,:2]\n",
    "gene_name.columns = [\"HGNC\",\"model_name\"] \n",
    "\n",
    "drug_target = pd.read_csv(\"data/drug_target.csv\")\n",
    "read_out = [\"CYCLIN_D_c\",\"MTORC1_c\",\"ESR1\",\"BCL2\",\"PAK1\",\"STAT3\",\"PGR\",\"WNT1\",\"P21\",\"CASP3\",\"GATA3\",\"FADD\",\"BID\"]\n"
   ]
  },
  {
   "cell_type": "code",
   "execution_count": 4,
   "id": "c1c155cc-e547-40ff-8b2c-ed0ff059e366",
   "metadata": {},
   "outputs": [],
   "source": [
    "#Prep. omics profile\n",
    "##gene expression\n",
    "cl_name = [\"MCF7\",\"T47D\",\"BT549\",\"MDAMB436\",\"MDAMB231\",\"MDAMB468\"]\n",
    "mdf_gx = pd.read_csv(\"data/omics/gx_fpkm_sanger_broad.csv.gz\").iloc[:,1:].query(\"cl == @cl_name\").rename({\"variable\":\"HGNC\"},axis=1)\n",
    "mdf_gx_ = pd.merge(mdf_gx,gene_name,on=\"HGNC\")[[\"cl\",\"model_name\",\"value\"]]\n",
    "mdf_gx_final = mdf_gx_.groupby(['cl','model_name']).agg({'value': 'mean'}).reset_index()\n",
    "mdf_gx_final.columns = [\"cl\",\"target\",\"value\"]\n",
    "\n",
    "##genetic mutation\n",
    "cl_mut = pd.read_csv(\"data/omics/mutations_sanger_broad.csv.gz\").iloc[:,1:].rename({\"gene\":\"HGNC\"},axis=1)\n",
    "cl_mut_ = pd.merge(cl_mut,gene_name,on=\"HGNC\")[[\"displayName\",\"model_name\",\"status\"]]\n",
    "cl_mut_.columns = [\"cl\",\"target\",\"value\"]\n"
   ]
  },
  {
   "cell_type": "code",
   "execution_count": 5,
   "id": "a6d52888-4501-4392-acbf-b0b685946e3b",
   "metadata": {},
   "outputs": [],
   "source": [
    "# omics profile used for cell line \n",
    "rule_idx = pd.DataFrame([[[\"cl_tmp\"],[\"ex_tmp\"],\"MCF7\"],\n",
    "[[\"cl_tmp\"],[\"ex_tmp\"],\"T47D\"],\n",
    "[[\"cl_tmp\"],[\"ex_tmp\"],\"MDAMB231\"],\n",
    "[[\"cl_tmp\"],[\"ex_tmp\"],\"MDAMB468\"],\n",
    "[[\"cl_tmp\"],[\"ex_tmp\"],\"BT549\"]],columns=[\"rule\",\"init\",\"cl\"])"
   ]
  },
  {
   "cell_type": "markdown",
   "id": "758153f2",
   "metadata": {},
   "source": [
    "# 2. Select cell line and drug pair"
   ]
  },
  {
   "cell_type": "code",
   "execution_count": 9,
   "id": "9a689894",
   "metadata": {},
   "outputs": [],
   "source": [
    "#number of repeats -> higher number of repeat might take some time to run \n",
    "simr = 5\n",
    "# cell line \n",
    "cell_line = \"MCF7\"\n",
    "sheet_index = {\"MCF7\":1,\"T47D\":2,\"MDAMB468\":3,\"MDAMB231\":4,\"BT549\":5}\n",
    "boolean_function = fl.parse(sheet_index[cell_line]).iloc[:,:2] \n",
    "\n",
    "# drug pair\n",
    "drug_A = \"AZD5363\"\n",
    "drug_B = \"FULVESTRANT\""
   ]
  },
  {
   "cell_type": "markdown",
   "id": "ea8e0d52",
   "metadata": {},
   "source": [
    "# 3. Select Dose range"
   ]
  },
  {
   "cell_type": "code",
   "execution_count": 10,
   "id": "b8bb60aa",
   "metadata": {},
   "outputs": [],
   "source": [
    "# matrix for simulation\n",
    "# dose range must be between 0 and 1\n",
    "big_mat_ = []\n",
    "for f_dose in [0,0.25,0.75,1]:\n",
    "    for s_dose in [0,0.25,0.75,1]:\n",
    "        col = [f_dose,s_dose]\n",
    "        big_mat_.append(col)      \n"
   ]
  },
  {
   "cell_type": "markdown",
   "id": "95f6cf78",
   "metadata": {},
   "source": [
    "# 4. Run simulation"
   ]
  },
  {
   "cell_type": "markdown",
   "id": "a1191e1c",
   "metadata": {},
   "source": [
    "## Step 1:  Prepare function arguments as a dict"
   ]
  },
  {
   "cell_type": "code",
   "execution_count": 11,
   "id": "8a1394ba-72a6-40e1-b163-bb1467af73aa",
   "metadata": {
    "tags": []
   },
   "outputs": [],
   "source": [
    "rand_bool = rule_idx.query(\"cl == @cell_line\").iloc[0,0]\n",
    "rand_init = rule_idx.query(\"cl == @cell_line\").iloc[0,1]\n",
    "\n",
    "\n",
    "args = {\"cl_name\":cell_line, # selcted cell line in (2)\n",
    "        \"boolean_function\":boolean_function, #selected boolean function based on cell line\n",
    "        \"hyp_rule\":rand_bool, #genetic mutation for fixing Boolean rule\n",
    "        \"hyp_init\":rand_init, # gene expression for initial state\n",
    "        \"drug_1\":drug_A, # 1st drug name\n",
    "        \"drug_2\":drug_B} # 2nd drug name\n",
    "\n",
    "#steady state of unperturbed cell lines\n",
    "SS = {\"MCF7\":3500,\n",
    "      \"T47D\":2750,\n",
    "      \"MDAMB231\":2250,\n",
    "      \"MDAMB468\":3500,\n",
    "      \"BT549\":3500}\n"
   ]
  },
  {
   "cell_type": "markdown",
   "id": "55c5ca21",
   "metadata": {},
   "source": [
    "## Step 2:  Run drug-perturbed simulation"
   ]
  },
  {
   "cell_type": "code",
   "execution_count": 12,
   "id": "f6f4c999-3500-4d0e-b730-aff7e9021329",
   "metadata": {},
   "outputs": [
    {
     "name": "stdout",
     "output_type": "stream",
     "text": [
      "---Preparing file ---\n",
      "---Simulating ---\n",
      "running ----->  0 repeat\n"
     ]
    },
    {
     "name": "stderr",
     "output_type": "stream",
     "text": [
      "100%|███████████████████████████████████████████| 16/16 [00:47<00:00,  2.99s/it]\n"
     ]
    },
    {
     "name": "stdout",
     "output_type": "stream",
     "text": [
      "running ----->  1 repeat\n"
     ]
    },
    {
     "name": "stderr",
     "output_type": "stream",
     "text": [
      "100%|███████████████████████████████████████████| 16/16 [00:35<00:00,  2.20s/it]\n"
     ]
    },
    {
     "name": "stdout",
     "output_type": "stream",
     "text": [
      "running ----->  2 repeat\n"
     ]
    },
    {
     "name": "stderr",
     "output_type": "stream",
     "text": [
      "100%|███████████████████████████████████████████| 16/16 [00:36<00:00,  2.29s/it]\n"
     ]
    },
    {
     "name": "stdout",
     "output_type": "stream",
     "text": [
      "running ----->  3 repeat\n"
     ]
    },
    {
     "name": "stderr",
     "output_type": "stream",
     "text": [
      "100%|███████████████████████████████████████████| 16/16 [02:20<00:00,  8.75s/it]\n"
     ]
    },
    {
     "name": "stdout",
     "output_type": "stream",
     "text": [
      "running ----->  4 repeat\n"
     ]
    },
    {
     "name": "stderr",
     "output_type": "stream",
     "text": [
      "100%|███████████████████████████████████████████| 16/16 [01:53<00:00,  7.07s/it]\n"
     ]
    }
   ],
   "source": [
    "\n",
    "print(\"---Preparing file ---\")\n",
    "# prepare cell-line-specific Boolean rule and initial state through n simulations\n",
    "all_set = Parallel(n_jobs=-1,backend=\"threading\")(delayed(get_para)(i,**args) for i in range(simr))\n",
    "\n",
    "print(\"---Simulating ---\")\n",
    "# drug perturb simulation\n",
    "df_list = []\n",
    "for count, j in enumerate(all_set):\n",
    "    print(\"running ----->  \"+str(count)+ \" repeat\")\n",
    "    set_ = Parallel(n_jobs=-1,backend=\"threading\")(delayed(asyn_inhibitor_opt)(**k) for k in tqdm(j))\n",
    "    df_list.append(set_)"
   ]
  },
  {
   "cell_type": "markdown",
   "id": "142ef685",
   "metadata": {},
   "source": [
    "## Step 3:  Averaging protein activities from an asynchronous update in each dose"
   ]
  },
  {
   "cell_type": "code",
   "execution_count": 13,
   "id": "b45092c2-ee6d-4f2f-bbec-5932fa04a2e2",
   "metadata": {},
   "outputs": [],
   "source": [
    "#summarize result\n",
    "res_list = []\n",
    "for reps,j in enumerate(df_list):\n",
    "    for k in range(len(big_mat_)):\n",
    "        df_cat = pd.DataFrame(j[k])\n",
    "        df_cat_2 = df_cat.T\n",
    "        df_cat_2.index = gene_list\n",
    "        df_cat_2[\"dose\"] = '_'.join(map(str, big_mat_[k]))\n",
    "        df_cat_2[\"repeats\"] = reps\n",
    "        res_list.append(df_cat_2)"
   ]
  },
  {
   "cell_type": "code",
   "execution_count": 14,
   "id": "35ebf331-c13a-403c-9e8e-d8770bb66f23",
   "metadata": {},
   "outputs": [],
   "source": [
    "df_ = pd.concat(res_list)\n",
    "df_[\"protein\"] = df_.index\n",
    "df_2 = df_.groupby([\"dose\",\"protein\"]).mean().reset_index()"
   ]
  },
  {
   "cell_type": "markdown",
   "id": "c762a665",
   "metadata": {},
   "source": [
    "## Step 4: Collecting protein activities at steady state"
   ]
  },
  {
   "cell_type": "code",
   "execution_count": 23,
   "id": "29adbba3-ebc9-4361-88f6-098fda42b29e",
   "metadata": {},
   "outputs": [],
   "source": [
    "df_3 = df_2.drop([\"repeats\"],axis=1).melt(id_vars=[\"dose\",\"protein\"])\n",
    "# it might take long time to run entropy function, we simply collected the steady state at last 500 row\n",
    "ss = np.max(df_3.variable.unique())-500\n",
    "df_4 = df_3.query(\"variable >= @ss\")"
   ]
  },
  {
   "cell_type": "markdown",
   "id": "2c5b514c",
   "metadata": {},
   "source": [
    "## Step 5: Averaging the readout protein activity  across dose ranges"
   ]
  },
  {
   "cell_type": "code",
   "execution_count": 24,
   "id": "1d29087f-40cb-47c8-9893-72e8e3cffefb",
   "metadata": {},
   "outputs": [],
   "source": [
    "df_5 = df_4.query(\"protein == @read_out\").groupby([\"dose\",\"protein\"]).mean().reset_index()"
   ]
  },
  {
   "cell_type": "code",
   "execution_count": 25,
   "id": "80a90048-4c9f-40b8-86da-f388a585313c",
   "metadata": {},
   "outputs": [],
   "source": [
    "df_6 = df_5.groupby(\"protein\").mean().reset_index()\n",
    "df_7 = df_6.set_index('protein')\n",
    "df_8 = df_7.reindex(read_out)\n",
    "df_9 = df_8.reset_index()"
   ]
  },
  {
   "cell_type": "markdown",
   "id": "b4a82f4f",
   "metadata": {},
   "source": [
    "## Step 6: Visualizing the protein synergy score and contribution of each readout member"
   ]
  },
  {
   "cell_type": "code",
   "execution_count": 26,
   "id": "45fd62f3-6823-430a-86f4-ae4e4514ff57",
   "metadata": {},
   "outputs": [
    {
     "data": {
      "text/plain": [
       "Text(0.5, 1.0, 'Predicted HSA synergy score = 3.9')"
      ]
     },
     "execution_count": 26,
     "metadata": {},
     "output_type": "execute_result"
    },
    {
     "data": {
      "image/png": "[encoded data removed]",
      "text/plain": [
       "<Figure size 1200x1200 with 1 Axes>"
      ]
     },
     "metadata": {},
     "output_type": "display_data"
    }
   ],
   "source": [
    "title = \"Predicted HSA synergy score = \"+str(np.round(df_9.value.sum(),2))\n",
    "ax = df_9.sort_values(by=\"value\").plot.barh(x=\"protein\",y='value', rot=0,figsize=(12,12),fontsize=15)\n",
    "ax.set_xlabel(\"Protein synetgy score (PSS)\",fontdict={'fontsize':15})\n",
    "ax.set_ylabel(\"\")\n",
    "ax.set_title(title,fontdict={'fontsize':15})"
   ]
  },
  {
   "cell_type": "code",
   "execution_count": null,
   "id": "8f17d4ae-827b-4b90-9b7d-66bca5796270",
   "metadata": {},
   "outputs": [],
   "source": []
  }
 ],
 "metadata": {
  "kernelspec": {
   "display_name": "Python 3 (ipykernel)",
   "language": "python",
   "name": "python3"
  },
  "language_info": {
   "codemirror_mode": {
    "name": "ipython",
    "version": 3
   },
   "file_extension": ".py",
   "mimetype": "text/x-python",
   "name": "python",
   "nbconvert_exporter": "python",
   "pygments_lexer": "ipython3",
   "version": "3.9.7"
  }
 },
 "nbformat": 4,
 "nbformat_minor": 5
}
